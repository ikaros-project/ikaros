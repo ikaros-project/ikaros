{
 "cells": [
  {
   "cell_type": "code",
   "execution_count": 112,
   "metadata": {},
   "outputs": [],
   "source": [
    "import subprocess\n",
    "\n",
    "class Ikaros:\n",
    "\n",
    "    def __init__(self, p, f):\n",
    "        self.path = p\n",
    "        self.file = f\n",
    "\n",
    "    def run(self):\n",
    "        result = subprocess.run([self.path,self.file, \"stop=50\"], capture_output=True, text=True)\n",
    "        result.stdout\n",
    "\n",
    "    def test(self):\n",
    "        print(\"TEST\")\n",
    "\n",
    "\n",
    "    def f(self):\n",
    "        print(\"FFFF\")\n",
    "\n"
   ]
  },
  {
   "cell_type": "code",
   "execution_count": 113,
   "metadata": {},
   "outputs": [],
   "source": [
    "i = Ikaros(\"/Users/cba/ikaros-3/Bin/ikaros_d\",\"/Users/cba/ikaros-3/Source/Modules/UtilityModules/OutputFile/OutputFile_test.ikg\")\n",
    "i.run()\n"
   ]
  }
 ],
 "metadata": {
  "kernelspec": {
   "display_name": "Python 3",
   "language": "python",
   "name": "python3"
  },
  "language_info": {
   "codemirror_mode": {
    "name": "ipython",
    "version": 3
   },
   "file_extension": ".py",
   "mimetype": "text/x-python",
   "name": "python",
   "nbconvert_exporter": "python",
   "pygments_lexer": "ipython3",
   "version": "3.10.0"
  },
  "orig_nbformat": 4
 },
 "nbformat": 4,
 "nbformat_minor": 2
}
